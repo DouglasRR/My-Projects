{
 "cells": [
  {
   "cell_type": "code",
   "execution_count": null,
   "metadata": {},
   "outputs": [],
   "source": [
    "# Importação das Bibliotecas\n",
    "import pandas as pd\n",
    "import matplotlib.pyplot as plt\n",
    "import matplotlib.dates as mdates\n",
    "from prophet import Prophet\n",
    "import cmdstanpy\n",
    "import seaborn as sns\n",
    "\n",
    "# Importação e visualização inicial dos dados\n",
    "dados = pd.read_excel(\"Dados.xlsx\")\n",
    "display(dados)\n"
   ]
  },
  {
   "cell_type": "code",
   "execution_count": null,
   "metadata": {},
   "outputs": [],
   "source": [
    "# Visualizando a formatação do dataframe \n",
    "dados.info()"
   ]
  },
  {
   "cell_type": "code",
   "execution_count": null,
   "metadata": {},
   "outputs": [],
   "source": [
    "# Formatação do gráfico\n",
    "x = dados[\"Data\"]\n",
    "y = dados[\"Vendas\"]\n",
    "\n",
    "plt.figure(figsize = (20, 10)) # Tamanho do gráfico\n",
    "plt.gca().xaxis.set_major_formatter(mdates.DateFormatter('%d/%m/%Y')) # Data do formato brasileiro\n",
    "plt.gca().xaxis.set_major_locator(mdates.DayLocator()) # Mostrar todos os dias\n",
    "plt.plot(x, y, marker = \"o\") # Marcador por data\n",
    "plt.xticks(rotation = 90) # Melhorar visualização das datas\n",
    "plt.grid() # Apresentando o gráfico\n",
    "\n"
   ]
  },
  {
   "cell_type": "code",
   "execution_count": null,
   "metadata": {},
   "outputs": [],
   "source": [
    "# Criando dataframe para Prophet\n",
    "df_prophet = pd.DataFrame()\n",
    "\n",
    "df_prophet['ds'] = dados[\"Data\"]\n",
    "df_prophet['y'] = dados[\"Vendas\"]\n",
    "\n",
    "# Esta função ajusta o modelo do profeta aos dados de entrada e gera uma previsão\n",
    "def fit_and_forecast(df, periods, interval_width):\n",
    "    # Definir o intervalo de incerteza\n",
    "    Prophet(interval_width=interval_width)\n",
    "    # Instanciar o modelo\n",
    "    model = Prophet()\n",
    "    # Treinando o modelo\n",
    "    model.fit(df)\n",
    "    # Criar um dataframe com um determinado número de datas\n",
    "    future_df = model.make_future_dataframe(periods=periods)\n",
    "    # Gerar uma previsão para as datas fornecidas\n",
    "    forecast_df = model.predict(future_df)\n",
    "\n",
    "    return forecast_df, model, future_df\n",
    "    \n",
    "# Previsão para 5 dias com dados completos\n",
    "forecast_df, model, future_df = fit_and_forecast(df_prophet, 5, 0.95)\n",
    "forecast_df[['yhat_lower', 'yhat_upper', 'yhat']].head(5)\n"
   ]
  },
  {
   "cell_type": "code",
   "execution_count": null,
   "metadata": {},
   "outputs": [],
   "source": [
    "# Gráfico apresentendo as previsões do modelo\n",
    "model.plot(forecast_df)"
   ]
  },
  {
   "cell_type": "code",
   "execution_count": null,
   "metadata": {},
   "outputs": [],
   "source": [
    "# Padrão que o modelo encontrou\n",
    "model.plot_components(forecast_df)"
   ]
  },
  {
   "cell_type": "code",
   "execution_count": null,
   "metadata": {},
   "outputs": [],
   "source": [
    "# A previsão de vendas para as datas da coluna \"ds\" está na coluna \"yhat\"\n",
    "forecast_df[['ds', 'yhat']].tail(5)"
   ]
  }
 ],
 "metadata": {
  "kernelspec": {
   "display_name": "Python 3",
   "language": "python",
   "name": "python3"
  },
  "language_info": {
   "codemirror_mode": {
    "name": "ipython",
    "version": 3
   },
   "file_extension": ".py",
   "mimetype": "text/x-python",
   "name": "python",
   "nbconvert_exporter": "python",
   "pygments_lexer": "ipython3",
   "version": "3.10.0"
  },
  "orig_nbformat": 4,
  "vscode": {
   "interpreter": {
    "hash": "6b71a5b2671a86da0a04db5c09307b5c4ba0b413e15b05630537957c70835d9d"
   }
  }
 },
 "nbformat": 4,
 "nbformat_minor": 2
}
