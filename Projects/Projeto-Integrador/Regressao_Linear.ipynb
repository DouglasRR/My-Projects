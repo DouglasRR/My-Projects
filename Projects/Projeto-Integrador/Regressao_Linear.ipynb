{
 "cells": [
  {
   "attachments": {},
   "cell_type": "markdown",
   "metadata": {},
   "source": [
    "Módulos"
   ]
  },
  {
   "cell_type": "code",
   "execution_count": null,
   "metadata": {},
   "outputs": [],
   "source": [
    "# Manipulação de Ddos\n",
    "import pandas as pd\n",
    "from itertools import chain\n",
    "import numpy as np\n",
    "\n",
    "# Modelo de Regressão Linear\n",
    "from sklearn.linear_model import LinearRegression\n",
    "\n",
    "# Visualização de Dados\n",
    "import seaborn as sns\n",
    "from matplotlib import pyplot as plt\n"
   ]
  },
  {
   "attachments": {},
   "cell_type": "markdown",
   "metadata": {},
   "source": [
    "Importação e Visualização da Tabela"
   ]
  },
  {
   "cell_type": "code",
   "execution_count": null,
   "metadata": {},
   "outputs": [],
   "source": [
    "dados = pd.read_excel(\"O_SP2021_DadosProntos.xlsx\") # \n",
    "dados.head()"
   ]
  },
  {
   "attachments": {},
   "cell_type": "markdown",
   "metadata": {},
   "source": [
    "Variáveis"
   ]
  },
  {
   "cell_type": "code",
   "execution_count": null,
   "metadata": {},
   "outputs": [],
   "source": [
    "# Definindo as Variáveis Dependentes e Independentes\n",
    "# Coloco em lista para deixar de ser colunda de DataFrame\n",
    "x1 = list(dados['População'])\n",
    "x2 = list(dados['Q_Privação'])\n",
    "y = list(dados['Furto e Roubo'])\n",
    "\n",
    "# Definindo os valores da listas para cada valor individual seja uma lista também\n",
    "X1 = [[valor] for valor in x1]\n",
    "X2 = [[valor] for valor in x2]\n",
    "\n",
    "# Defininto X e Y\n",
    "X = np.column_stack((X1,X2)) \n",
    "Y = [[valor] for valor in y]"
   ]
  },
  {
   "attachments": {},
   "cell_type": "markdown",
   "metadata": {},
   "source": [
    "Regressão Linear"
   ]
  },
  {
   "cell_type": "code",
   "execution_count": null,
   "metadata": {},
   "outputs": [],
   "source": [
    "# Modelo de Regressão\n",
    "modelo = LinearRegression()\n",
    "\n",
    "# Treinando o modelo\n",
    "modelo.fit(X,Y)\n",
    "\n",
    "# Definindo a variável para testar o modelo\n",
    "X_teste = X\n",
    "\n",
    "# Modelo fazendo regressão linear com os dados de X_teste\n",
    "y_pred = modelo.predict(X_teste)\n",
    "\n",
    "# Coeficientes do Modelo\n",
    "coef_ang = modelo.coef_\n",
    "coef_lin = modelo.intercept_\n",
    "print(f\"Coeficiente Angular: {coef_ang[0]}\\nCoeficiente Linear: {coef_lin[0]}\")"
   ]
  },
  {
   "attachments": {},
   "cell_type": "markdown",
   "metadata": {},
   "source": [
    "DataFrame com a Previsão"
   ]
  },
  {
   "cell_type": "code",
   "execution_count": null,
   "metadata": {},
   "outputs": [],
   "source": [
    "previsao = list(chain.from_iterable(y_pred)) # Definindos os valores individuais fora de listas, se torna apenas uma lista com valores\n",
    "dados[\"Previsão Furto e Roubo\"] = previsao\n"
   ]
  },
  {
   "attachments": {},
   "cell_type": "markdown",
   "metadata": {},
   "source": [
    "Exportação dos Dados"
   ]
  },
  {
   "cell_type": "code",
   "execution_count": null,
   "metadata": {},
   "outputs": [],
   "source": [
    "# Produto final\n",
    "dados.to_excel('O_PrevRegressão.xlsx', index=False)"
   ]
  }
 ],
 "metadata": {
  "kernelspec": {
   "display_name": "Python 3",
   "language": "python",
   "name": "python3"
  },
  "language_info": {
   "codemirror_mode": {
    "name": "ipython",
    "version": 3
   },
   "file_extension": ".py",
   "mimetype": "text/x-python",
   "name": "python",
   "nbconvert_exporter": "python",
   "pygments_lexer": "ipython3",
   "version": "3.10.0"
  },
  "orig_nbformat": 4
 },
 "nbformat": 4,
 "nbformat_minor": 2
}
