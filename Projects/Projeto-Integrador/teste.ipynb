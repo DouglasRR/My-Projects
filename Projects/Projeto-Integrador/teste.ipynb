{
 "cells": [
  {
   "cell_type": "code",
   "execution_count": 1,
   "metadata": {},
   "outputs": [],
   "source": [
    "import pandas as pd\n",
    "arquivo_roubos = pd.read_excel(\"produto_pronto.xlsx\")\n",
    "arquivo_privat = pd.read_excel(\"Privat.xlsx\")\n"
   ]
  },
  {
   "cell_type": "code",
   "execution_count": 2,
   "metadata": {},
   "outputs": [
    {
     "name": "stdout",
     "output_type": "stream",
     "text": [
      "Empty DataFrame\n",
      "Columns: [coluna1, coluna2, coluna3]\n",
      "Index: []\n"
     ]
    }
   ],
   "source": [
    "import pandas as pd\n",
    "\n",
    "# Tabela 1\n",
    "df1 = pd.DataFrame({'coluna1': [1, 2, 3],\n",
    "                    'coluna2': ['a', 'b', 'c']})\n",
    "\n",
    "# Tabela 2\n",
    "df2 = pd.DataFrame({'coluna1': [4, 5, 6],\n",
    "                    'coluna2': ['d', 'e', 'f'],\n",
    "                    'coluna3': [7, 8, 9]})\n",
    "\n",
    "# Unir as tabelas usando a coluna em comum e selecionar colunas específicas do df2\n",
    "df_merged = pd.merge(df1, df2[['coluna2', 'coluna3']], on='coluna2')\n",
    "\n",
    "print(df_merged)"
   ]
  },
  {
   "cell_type": "code",
   "execution_count": 3,
   "metadata": {},
   "outputs": [],
   "source": [
    "frame = pd.merge(arquivo_privat, arquivo_roubos)\n",
    "main_frame = frame.drop(['nome_grande_regiao', 'uf', 'nome_da_uf', 'cod_municipio', 'codmun6', 'measure_1f_12'], axis=1)"
   ]
  },
  {
   "cell_type": "code",
   "execution_count": null,
   "metadata": {},
   "outputs": [],
   "source": [
    "import numpy as np\n",
    "from sklearn.linear_model import LinearRegression\n",
    "\n",
    "# Dados de exemplo\n",
    "# X1: Índice de privatização (variável independente)\n",
    "# X2: Outra variável independente (se houver)\n",
    "# y: Número de roubos anuais (variável dependente)\n",
    "X1 = np.array(list([arquivo_privat['q_measure_1f_12']]))  # Exemplo de índice de privatização\n",
    "X2 = np.array(list([arquivo_privat['d_measure_1f_12']]))\n",
    "y = np.array(list([arquivo_roubos[\"Furto e Roubo\"]]))  # Exemplo de número de roubos anuais\n",
    "\n",
    "# Concatenar as variáveis independentes, se houver mais de uma\n",
    "X = np.concatenate((X1, X2), axis=1)  # Concatenando as variáveis independentes\n",
    "\n",
    "# Criar o objeto de regressão linear\n",
    "regressor = LinearRegression()\n",
    "\n",
    "# Treinar o modelo usando os dados de treinamento\n",
    "regressor.fit(X, y)\n",
    "\n",
    "# Fazer previsões\n",
    "X_test = np.array([50, 10, 10])  # Dados de teste para índice de privatização e outra variável independente (se houver)\n",
    "y_pred = regressor.predict(X_test)\n",
    "\n",
    "# Imprimir os coeficientes (inclinações) e interceptação\n",
    "print(\"Coeficientes: \", regressor.coef_)\n",
    "print(\"Interceptação: \", regressor.intercept_)\n",
    "\n",
    "# Imprimir a previsão\n",
    "print(\"Previsão: \", y_pred)"
   ]
  }
 ],
 "metadata": {
  "kernelspec": {
   "display_name": "Python 3",
   "language": "python",
   "name": "python3"
  },
  "language_info": {
   "codemirror_mode": {
    "name": "ipython",
    "version": 3
   },
   "file_extension": ".py",
   "mimetype": "text/x-python",
   "name": "python",
   "nbconvert_exporter": "python",
   "pygments_lexer": "ipython3",
   "version": "3.10.0"
  },
  "orig_nbformat": 4
 },
 "nbformat": 4,
 "nbformat_minor": 2
}
