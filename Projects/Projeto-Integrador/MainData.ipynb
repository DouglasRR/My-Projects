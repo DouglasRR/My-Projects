{
 "cells": [
  {
   "attachments": {},
   "cell_type": "markdown",
   "metadata": {},
   "source": [
    "Módulos"
   ]
  },
  {
   "cell_type": "code",
   "execution_count": null,
   "metadata": {},
   "outputs": [],
   "source": [
    "# Manipulação de Dados\n",
    "import pandas as pd"
   ]
  },
  {
   "attachments": {},
   "cell_type": "markdown",
   "metadata": {},
   "source": [
    "Upload dos Arquivos com os Dados"
   ]
  },
  {
   "cell_type": "code",
   "execution_count": null,
   "metadata": {},
   "outputs": [],
   "source": [
    "arquivo1 = pd.read_excel(\"POPULAÇÃO SP 2021.xlsx\") # Dados com os MUNICÍPIOS e POPULAÇÃO\n",
    "arquivo2 = pd.read_excel(\"Privat.xlsx\") # Dados com o ÍNDICE DE PRIVAÇÃO\n",
    "arquivo3 = pd.read_excel(\"produto_pronto2021.xlsx\") # Dados com a quantidade de FURTO E ROUBO"
   ]
  },
  {
   "attachments": {},
   "cell_type": "markdown",
   "metadata": {},
   "source": [
    "Modelagem do DataFrame"
   ]
  },
  {
   "cell_type": "code",
   "execution_count": null,
   "metadata": {},
   "outputs": [],
   "source": [
    "main_frame = pd.DataFrame()\n",
    "main_frame[\"Municípios\"] = arquivo1['Municípios'] # Nome dos Municípios\n",
    "main_frame[\"Q_Privação\"] = arquivo2['q_measure_1f_12'] # Índice\n",
    "main_frame[\"População\"] = arquivo1['População'] # População dos Municípios\n",
    "main_frame[\"Furto e Roubo\"] = arquivo3['Furto e Roubo'] # Furto e Roubo"
   ]
  },
  {
   "attachments": {},
   "cell_type": "markdown",
   "metadata": {},
   "source": [
    "Visualização do DataFrame"
   ]
  },
  {
   "cell_type": "code",
   "execution_count": null,
   "metadata": {},
   "outputs": [],
   "source": [
    "main_frame"
   ]
  },
  {
   "attachments": {},
   "cell_type": "markdown",
   "metadata": {},
   "source": [
    "Exportação do DataFrame"
   ]
  },
  {
   "cell_type": "code",
   "execution_count": null,
   "metadata": {},
   "outputs": [],
   "source": [
    "# Produto final\n",
    "main_frame.to_excel('O_SP2021_DadosProntos.xlsx', index=False)"
   ]
  }
 ],
 "metadata": {
  "kernelspec": {
   "display_name": "Python 3",
   "language": "python",
   "name": "python3"
  },
  "language_info": {
   "codemirror_mode": {
    "name": "ipython",
    "version": 3
   },
   "file_extension": ".py",
   "mimetype": "text/x-python",
   "name": "python",
   "nbconvert_exporter": "python",
   "pygments_lexer": "ipython3",
   "version": "3.10.0"
  },
  "orig_nbformat": 4
 },
 "nbformat": 4,
 "nbformat_minor": 2
}
