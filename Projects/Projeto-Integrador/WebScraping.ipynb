{
 "cells": [
  {
   "attachments": {},
   "cell_type": "markdown",
   "metadata": {},
   "source": [
    "Módulos"
   ]
  },
  {
   "cell_type": "code",
   "execution_count": null,
   "metadata": {},
   "outputs": [],
   "source": [
    "# Ferramentas do Selenium para WebScraping\n",
    "import selenium\n",
    "from selenium import webdriver\n",
    "from selenium.webdriver.common.by import By\n",
    "from selenium.webdriver.common.keys import Keys\n",
    "from selenium.webdriver.support.ui import Select\n",
    "\n",
    "# Manipulação de Dados\n",
    "import pandas as pd \n",
    "\n",
    "# Recurso necessário para a função lastnum_sdot()\n",
    "import re\n",
    "\n",
    "# Limpar terminal\n",
    "import os"
   ]
  },
  {
   "attachments": {},
   "cell_type": "markdown",
   "metadata": {},
   "source": [
    "Funções"
   ]
  },
  {
   "cell_type": "code",
   "execution_count": null,
   "metadata": {},
   "outputs": [],
   "source": [
    "# Função para limpar o terminal\n",
    "def limpar():\n",
    "     os.system('cls')\n",
    "     \n",
    "# Status de quanto falta para completar a coleta\n",
    "def carregamento(contador):\n",
    "    max = 645\n",
    "    count = contador\n",
    "    print(f\"Está faltando {max - count} para completar {max} ({count}/{max})\")\n",
    "\n",
    "# Pegar o último número exato com ponto dentro de uma string \n",
    "def lastnum_sdot(text):\n",
    "        texto = text\n",
    "        padrao = r'\\b\\d+(\\.\\d+)?\\b$'\n",
    "        match = re.search(padrao, texto)\n",
    "        if match:\n",
    "            numero = match.group(0)\n",
    "        else:\n",
    "            print(\"Nenhum número encontrado.\")\n",
    "        numero_sem_ponto = numero.replace('.', '')\n",
    "        return int(numero_sem_ponto)"
   ]
  },
  {
   "attachments": {},
   "cell_type": "markdown",
   "metadata": {},
   "source": [
    "Abrir navegador no site da SSP para pegar os dados"
   ]
  },
  {
   "cell_type": "code",
   "execution_count": null,
   "metadata": {},
   "outputs": [],
   "source": [
    "# Abrir o Google\n",
    "navegador = webdriver.Chrome()\n",
    "\n",
    "# Entrar no Site\n",
    "navegador.get(\"https://www.ssp.sp.gov.br/estatistica/pesquisa.aspx\")"
   ]
  },
  {
   "attachments": {},
   "cell_type": "markdown",
   "metadata": {},
   "source": [
    "Selecionar área de ocorrência para coleta"
   ]
  },
  {
   "cell_type": "code",
   "execution_count": null,
   "metadata": {},
   "outputs": [],
   "source": [
    "# Seleciona Ocorrência Registrada por Mês\n",
    "navegador.find_element(By.XPATH, '/html/body/div[3]/div/div[1]/form/div[3]/div[1]/div[5]/div[1]/div/a').send_keys(Keys.ENTER)"
   ]
  },
  {
   "attachments": {},
   "cell_type": "markdown",
   "metadata": {},
   "source": [
    "Criando tabela de dados"
   ]
  },
  {
   "cell_type": "code",
   "execution_count": null,
   "metadata": {},
   "outputs": [],
   "source": [
    "# Transformando arquivo .txt em .csv para construir tabela principal\n",
    "frame_main = pd.read_csv(\"municipios.txt\", delimiter='\\t')\n",
    "\n",
    "# Adicionando coluna para inserção de dados\n",
    "frame_main[\"Furto e Roubo\"] = 0"
   ]
  },
  {
   "attachments": {},
   "cell_type": "markdown",
   "metadata": {},
   "source": [
    "Colhendo os dados"
   ]
  },
  {
   "cell_type": "code",
   "execution_count": null,
   "metadata": {},
   "outputs": [],
   "source": [
    "# Laço para repetir município por município\n",
    "for c1 in range(0,645): # c1 vai ser usado como índice para associar os municípios\n",
    "    limpar() # Usado para manter somente o print da função abaixo\n",
    "    carregamento(c1) # Usado para dizer para o usuário quanto que falta para finalizar\n",
    "    coletor = [] # Variável para manipulação e armazenagem dos dados filtrados\n",
    "\n",
    "    select_box1 = Select(navegador.find_element(By.XPATH, '/html/body/div[3]/div/div[1]/form/div[3]/div[1]/div[3]/div[1]/div/select')) # Identificação da Caixa de Seleção Suspensa do município\n",
    "    select_box1.select_by_index(c1 + 1) # Selecionar o município pelo índice\n",
    "\n",
    "    table = navegador.find_element(By.CSS_SELECTOR, '[id=\"conteudo_repAnos_gridDados_2\"]') # Identificação da Tabela Principal 2023\n",
    "    \n",
    "    # Seleção, coleta, filtragem e manipulação dos dados\n",
    "    trs = table.find_elements(By.TAG_NAME, \"tr\") # Selecionar as linhas da tabela\n",
    "    for td in trs: # Percorrer cada linha da tabela\n",
    "\n",
    "        # Condicional para capturar somente os números necessários\n",
    "        if \"TOTAL DE ROUBO - OUTROS (1)\" in td.text:\n",
    "            coletor.append(lastnum_sdot(td.text))\n",
    "        if \"ROUBO DE VEÍCULO\" in td.text:\n",
    "            coletor.append(lastnum_sdot(td.text))\n",
    "        if \"FURTO - OUTROS\"\tin td.text:\n",
    "            coletor.append(lastnum_sdot(td.text))\n",
    "        if \"FURTO DE VEÍCULO\"\tin td.text:\n",
    "            coletor.append(lastnum_sdot(td.text))\n",
    "        \n",
    "    input_frame = sum(coletor) # Somar todos os dados coletados de um município\n",
    "    frame_main.loc[c1, 'Furto e Roubo'] = input_frame # Armazenar na tabela principal, sendo c1 o índice na coluna \"Furto e Roubo\"\n",
    "\n",
    "    # Resetar para o estado limpo da página\n",
    "    select_box2 = Select(navegador.find_element(By.XPATH, '/html/body/div[3]/div/div[1]/form/div[3]/div[1]/div[2]/div[2]/div/select')) # Identificação da Caixa de Seleção Suspensa de Região\n",
    "    select_box2.select_by_index(0) # Selecionar \"Todos\" na caixa"
   ]
  },
  {
   "attachments": {},
   "cell_type": "markdown",
   "metadata": {},
   "source": [
    "Exportação da Tabela Principal para finalização do WebScraping"
   ]
  },
  {
   "cell_type": "code",
   "execution_count": null,
   "metadata": {},
   "outputs": [],
   "source": [
    "# Produto final\n",
    "frame_main.to_excel('produto_pronto2021.xlsx', index=False)"
   ]
  }
 ],
 "metadata": {
  "kernelspec": {
   "display_name": "Python 3",
   "language": "python",
   "name": "python3"
  },
  "language_info": {
   "codemirror_mode": {
    "name": "ipython",
    "version": 3
   },
   "file_extension": ".py",
   "mimetype": "text/x-python",
   "name": "python",
   "nbconvert_exporter": "python",
   "pygments_lexer": "ipython3",
   "version": "3.10.0"
  },
  "orig_nbformat": 4
 },
 "nbformat": 4,
 "nbformat_minor": 2
}
