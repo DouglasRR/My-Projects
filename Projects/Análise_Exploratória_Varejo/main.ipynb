{
 "cells": [
  {
   "attachments": {},
   "cell_type": "markdown",
   "metadata": {},
   "source": [
    "# Perguntas de Negócios"
   ]
  },
  {
   "attachments": {},
   "cell_type": "markdown",
   "metadata": {},
   "source": [
    "## Pergunta de Negócio 1:\n",
    "    Qual Cidade com Maior Valor de Venda de Produtos da Categoria 'Office Supplies'?"
   ]
  },
  {
   "attachments": {},
   "cell_type": "markdown",
   "metadata": {},
   "source": [
    "## Pergunta de Negócio 2:\n",
    "    Qual o Total de Vendas Por Data do Pedido?Demonstre o resultado através de um gráfico de barras."
   ]
  },
  {
   "attachments": {},
   "cell_type": "markdown",
   "metadata": {},
   "source": [
    "## Pergunta de Negócio 3:\n",
    "    Qual o Total de Vendas por Estado?Demonstre o resultado através de um gráfico de barras."
   ]
  },
  {
   "attachments": {},
   "cell_type": "markdown",
   "metadata": {},
   "source": [
    "## Pergunta de Negócio 4:\n",
    "    Quais São as 10 Cidades com Maior Total de Vendas?Demonstre o resultado através de um gráfico de barras."
   ]
  },
  {
   "attachments": {},
   "cell_type": "markdown",
   "metadata": {},
   "source": [
    "## Pergunta de Negócio 5:\n",
    "    Qual Segmento Teve o Maior Total de Vendas?Demonstre o resultado através de um gráfico de pizza."
   ]
  },
  {
   "attachments": {},
   "cell_type": "markdown",
   "metadata": {},
   "source": [
    "## Pergunta de Negócio 6 (Desafio Nível Baby):\n",
    "    Qual o Total de Vendas Por Segmento e Por Ano?"
   ]
  },
  {
   "attachments": {},
   "cell_type": "markdown",
   "metadata": {},
   "source": [
    "## Pergunta de Negócio 7 (Desafio Nível Júnior):\n",
    "    Os  gestores  da  empresa  estão  considerando conceder  diferentes  faixas  de  descontos  e gostariam de fazer uma simulação com base na regra abaixo:\n",
    "\n",
    "    Se o Valor_Venda for maior que 1000 recebe 15% de desconto.\n",
    "    Se o Valor_Venda for menor que 1000 recebe 10% de desconto.\n",
    "\n",
    "Quantas Vendas Receberiam 15% de Desconto?"
   ]
  },
  {
   "attachments": {},
   "cell_type": "markdown",
   "metadata": {},
   "source": [
    "## Pergunta de Negócio 8 (Desafio Nível Master):\n",
    "    Considere  Que  a  Empresa  Decida  Conceder  o  Desconto  de  15%  do  Item  Anterior.  Qual Seria a Média do Valor de Venda Antes e Depois do Desconto?"
   ]
  },
  {
   "attachments": {},
   "cell_type": "markdown",
   "metadata": {},
   "source": [
    "## Pergunta de Negócio 9 (Desafio Nível Master Ninja):\n",
    "    Qual o Média de Vendas Por Segmento, Por Ano e Por Mês?Demonstre o resultado através de gráfico de linha."
   ]
  },
  {
   "attachments": {},
   "cell_type": "markdown",
   "metadata": {},
   "source": [
    "## Pergunta de Negócio 10 (Desafio Nível Master Ninja das Galáxias):\n",
    "    Qual o Total de Vendas Por Categoria e SubCategoria, Considerando Somente as Top 12 SubCategorias?Demonstre tudo através de um único gráfico."
   ]
  }
 ],
 "metadata": {
  "language_info": {
   "name": "python"
  },
  "orig_nbformat": 4
 },
 "nbformat": 4,
 "nbformat_minor": 2
}
